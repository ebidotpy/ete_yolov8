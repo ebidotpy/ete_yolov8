{
 "cells": [
  {
   "cell_type": "code",
   "execution_count": 14,
   "metadata": {},
   "outputs": [],
   "source": [
    "import ultralytics\n",
    "import cv2\n",
    "import math\n",
    "import time\n",
    "import imutils"
   ]
  },
  {
   "cell_type": "code",
   "execution_count": 24,
   "metadata": {},
   "outputs": [],
   "source": [
    "model = ultralytics.YOLO(\"/home/ebi/machinelearning/end_to_end_ml_projects/ete_yolov8/yolov8/train2/weights/best.pt\")"
   ]
  },
  {
   "cell_type": "code",
   "execution_count": 25,
   "metadata": {},
   "outputs": [
    {
     "data": {
      "text/plain": [
       "(4128, 3096, 3)"
      ]
     },
     "execution_count": 25,
     "metadata": {},
     "output_type": "execute_result"
    }
   ],
   "source": [
    "img = cv2.imread(\"/home/ebi/machinelearning/end_to_end_ml_projects/ete_yolov8/artifacts/data_ingestion/images/20231107_105130.jpg\")\n",
    "img.shape"
   ]
  },
  {
   "cell_type": "code",
   "execution_count": 26,
   "metadata": {},
   "outputs": [
    {
     "data": {
      "text/plain": [
       "(640, 480, 3)"
      ]
     },
     "execution_count": 26,
     "metadata": {},
     "output_type": "execute_result"
    }
   ],
   "source": [
    "img = imutils.resize(img, width=480)\n",
    "img.shape"
   ]
  },
  {
   "cell_type": "code",
   "execution_count": 27,
   "metadata": {},
   "outputs": [],
   "source": [
    "cv2.imshow(\"Image\", img)\n",
    "cv2.waitKey(0)\n",
    "cv2.destroyAllWindows()"
   ]
  },
  {
   "cell_type": "code",
   "execution_count": 28,
   "metadata": {},
   "outputs": [
    {
     "name": "stderr",
     "output_type": "stream",
     "text": [
      "\n",
      "0: 640x480 1 Brush, 124.9ms\n",
      "Speed: 4.2ms preprocess, 124.9ms inference, 20.1ms postprocess per image at shape (1, 3, 640, 480)\n"
     ]
    }
   ],
   "source": [
    "result = model.predict(img)"
   ]
  },
  {
   "cell_type": "code",
   "execution_count": 29,
   "metadata": {},
   "outputs": [
    {
     "name": "stdout",
     "output_type": "stream",
     "text": [
      "[ultralytics.engine.results.Results object with attributes:\n",
      "\n",
      "boxes: ultralytics.engine.results.Boxes object\n",
      "keypoints: None\n",
      "masks: None\n",
      "names: {0: 'Brush'}\n",
      "orig_img: array([[[228, 232, 224],\n",
      "        [238, 243, 236],\n",
      "        [218, 220, 216],\n",
      "        ...,\n",
      "        [ 14,  27,  31],\n",
      "        [  9,  19,  32],\n",
      "        [ 12,  19,  37]],\n",
      "\n",
      "       [[203, 206, 193],\n",
      "        [199, 201, 195],\n",
      "        [201, 203, 201],\n",
      "        ...,\n",
      "        [ 37,  42,  43],\n",
      "        [ 30,  34,  40],\n",
      "        [ 11,  12,  29]],\n",
      "\n",
      "       [[208, 211, 196],\n",
      "        [210, 211, 203],\n",
      "        [215, 219, 217],\n",
      "        ...,\n",
      "        [ 43,  44,  43],\n",
      "        [ 43,  44,  42],\n",
      "        [ 28,  26,  32]],\n",
      "\n",
      "       ...,\n",
      "\n",
      "       [[ 61,  72,  83],\n",
      "        [ 61,  73,  83],\n",
      "        [ 60,  72,  82],\n",
      "        ...,\n",
      "        [ 65,  73,  86],\n",
      "        [ 65,  74,  88],\n",
      "        [ 67,  76,  89]],\n",
      "\n",
      "       [[ 60,  72,  82],\n",
      "        [ 61,  73,  83],\n",
      "        [ 59,  71,  82],\n",
      "        ...,\n",
      "        [ 65,  74,  87],\n",
      "        [ 65,  73,  86],\n",
      "        [ 66,  74,  86]],\n",
      "\n",
      "       [[ 58,  72,  82],\n",
      "        [ 58,  72,  81],\n",
      "        [ 58,  72,  82],\n",
      "        ...,\n",
      "        [ 64,  73,  86],\n",
      "        [ 65,  74,  87],\n",
      "        [ 66,  74,  87]]], dtype=uint8)\n",
      "orig_shape: (640, 480)\n",
      "path: 'image0.jpg'\n",
      "probs: None\n",
      "save_dir: None\n",
      "speed: {'preprocess': 4.17637825012207, 'inference': 124.88198280334473, 'postprocess': 20.112276077270508}]\n"
     ]
    }
   ],
   "source": [
    "print(result)"
   ]
  },
  {
   "cell_type": "code",
   "execution_count": 30,
   "metadata": {},
   "outputs": [
    {
     "name": "stdout",
     "output_type": "stream",
     "text": [
      "ultralytics.engine.results.Boxes object with attributes:\n",
      "\n",
      "cls: tensor([0.])\n",
      "conf: tensor([0.8897])\n",
      "data: tensor([[106.9258, 140.3873, 268.3271, 640.0000,   0.8897,   0.0000]])\n",
      "id: None\n",
      "is_track: False\n",
      "orig_shape: (640, 480)\n",
      "shape: torch.Size([1, 6])\n",
      "xywh: tensor([[187.6264, 390.1937, 161.4013, 499.6127]])\n",
      "xywhn: tensor([[0.3909, 0.6097, 0.3363, 0.7806]])\n",
      "xyxy: tensor([[106.9258, 140.3873, 268.3271, 640.0000]])\n",
      "xyxyn: tensor([[0.2228, 0.2194, 0.5590, 1.0000]])\n"
     ]
    }
   ],
   "source": [
    "for r in result:\n",
    "    boxes = r.boxes\n",
    "    print(boxes)"
   ]
  },
  {
   "cell_type": "code",
   "execution_count": null,
   "metadata": {},
   "outputs": [],
   "source": []
  }
 ],
 "metadata": {
  "kernelspec": {
   "display_name": "Python 3",
   "language": "python",
   "name": "python3"
  },
  "language_info": {
   "codemirror_mode": {
    "name": "ipython",
    "version": 3
   },
   "file_extension": ".py",
   "mimetype": "text/x-python",
   "name": "python",
   "nbconvert_exporter": "python",
   "pygments_lexer": "ipython3",
   "version": "3.9.0"
  }
 },
 "nbformat": 4,
 "nbformat_minor": 2
}
